{
 "cells": [
  {
   "cell_type": "code",
   "execution_count": 1,
   "id": "4d9d49c7",
   "metadata": {},
   "outputs": [
    {
     "name": "stdout",
     "output_type": "stream",
     "text": [
      "Masukkan sebuah bilangan: 21\n",
      "Bilangan prima terdekat dari 21 adalah 19.\n"
     ]
    }
   ],
   "source": [
    "# Fungsi untuk memeriksa bilangan prima\n",
    "def bilangan_prima(bilangan):\n",
    "    if bilangan <= 1:\n",
    "        return False\n",
    "    for i in range(2, int(bilangan ** 0.5) + 1):\n",
    "        if bilangan % i == 0:\n",
    "            return False\n",
    "    return True\n",
    "\n",
    "# Fungsi untuk mencari bilangan prima paling dekat dengan n\n",
    "def prima_terdekat(n):\n",
    "    if n <= 2:\n",
    "        return None\n",
    "    \n",
    "    prima = n - 1\n",
    "    while prima > 1:\n",
    "        if bilangan_prima(prima):\n",
    "            return prima\n",
    "            \n",
    "        prima -= 1\n",
    "\n",
    "    return None\n",
    "\n",
    "input_bilangan = int(input(\"Masukkan sebuah bilangan: \"))\n",
    "\n",
    "terdekat = prima_terdekat(input_bilangan)\n",
    "\n",
    "if terdekat:\n",
    "    print(f\"Bilangan prima terdekat dari {input_bilangan} adalah {terdekat}.\")\n",
    "else:\n",
    "    print(\"Tidak ada bilangan prima terdekat yang kurang dari bilangan yang dimasukkan.\")\n"
   ]
  },
  {
   "cell_type": "code",
   "execution_count": 2,
   "id": "69ea3f78",
   "metadata": {},
   "outputs": [
    {
     "name": "stdout",
     "output_type": "stream",
     "text": [
      "Masukkan nilai n: 6\n",
      "720 6 5 4 3 2 1 \n",
      "120 5 4 3 2 1 \n",
      "24 4 3 2 1 \n",
      "6 3 2 1 \n",
      "2 2 1 \n",
      "1 1 \n"
     ]
    }
   ],
   "source": [
    "# Fungsi untuk menghitung faktorial dari suatu bilangan\n",
    "def faktorial(bilangan):\n",
    "    if bilangan == 0 or bilangan == 1:\n",
    "        return 1\n",
    "    else:\n",
    "        return bilangan * faktorial(bilangan - 1)\n",
    "\n",
    "# Fungsi untuk mencetak deret sesuai dengan pola yang diinginkan\n",
    "def pola_deret(n):\n",
    "    for i in range(n, 0, -1):\n",
    "        print(faktorial(i), end=\" \")\n",
    "        for j in range(i, 0, -1):\n",
    "            print(j, end=\" \")\n",
    "        print()\n",
    "\n",
    "n = int(input(\"Masukkan nilai n: \"))\n",
    "pola_deret(n)"
   ]
  },
  {
   "cell_type": "code",
   "execution_count": 3,
   "id": "6dce4695",
   "metadata": {},
   "outputs": [
    {
     "name": "stdout",
     "output_type": "stream",
     "text": [
      "Masukkan tinggi: 5\n",
      "Masukkan lebar : 4\n",
      "1 2 3 4 \n",
      "5 6 7 8 \n",
      "9 10 11 12 \n",
      "13 14 15 16 \n",
      "17 18 19 20 \n"
     ]
    }
   ],
   "source": [
    "tinggi = int(input(\"Masukkan tinggi: \"))\n",
    "lebar = int(input(\"Masukkan lebar : \"))\n",
    "\n",
    "for i in range(1, tinggi + 1):\n",
    "    for j in range (1, lebar + 1):\n",
    "        print((i - 1) * lebar + j, end=\" \")\n",
    "    print()"
   ]
  },
  {
   "cell_type": "code",
   "execution_count": null,
   "id": "77ece123",
   "metadata": {},
   "outputs": [],
   "source": []
  }
 ],
 "metadata": {
  "kernelspec": {
   "display_name": "Python 3 (ipykernel)",
   "language": "python",
   "name": "python3"
  },
  "language_info": {
   "codemirror_mode": {
    "name": "ipython",
    "version": 3
   },
   "file_extension": ".py",
   "mimetype": "text/x-python",
   "name": "python",
   "nbconvert_exporter": "python",
   "pygments_lexer": "ipython3",
   "version": "3.11.5"
  }
 },
 "nbformat": 4,
 "nbformat_minor": 5
}
